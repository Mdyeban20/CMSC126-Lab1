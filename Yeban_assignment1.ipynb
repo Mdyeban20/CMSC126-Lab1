{
  "cells": [
    {
      "cell_type": "markdown",
      "metadata": {
        "id": "view-in-github",
        "colab_type": "text"
      },
      "source": [
        "<a href=\"https://colab.research.google.com/github/Mdyeban20/CMSC126-Lab1/blob/master/Yeban_assignment1.ipynb\" target=\"_parent\"><img src=\"https://colab.research.google.com/assets/colab-badge.svg\" alt=\"Open In Colab\"/></a>"
      ]
    },
    {
      "cell_type": "markdown",
      "id": "070f2eb6",
      "metadata": {
        "id": "070f2eb6"
      },
      "source": [
        "Download the dataset from:  https://github.com/bellawillrise/Introduction-to-Numerical-Computing-in-Python/\n",
        "\n",
        "Submit a pdf file, which is a rendered saved version of the jupyter notebook.  Make sure to execute all the codes so the output can be viewed in the pdf.\n",
        "\n",
        "Also include the link to the public github repository where the jupyter notebook for the assignment is uploaded."
      ]
    },
    {
      "cell_type": "markdown",
      "id": "469a0023",
      "metadata": {
        "id": "469a0023"
      },
      "source": [
        "Link to the github repository: <</insert link>>"
      ]
    },
    {
      "cell_type": "code",
      "execution_count": null,
      "id": "cb2d6e1f",
      "metadata": {
        "id": "cb2d6e1f"
      },
      "outputs": [],
      "source": [
        "import numpy as np\n",
        "import pandas as pd\n",
        "import matplotlib.pyplot as plt\n",
        "import seaborn as sns"
      ]
    },
    {
      "cell_type": "code",
      "execution_count": null,
      "id": "b68b5cf7",
      "metadata": {
        "id": "b68b5cf7"
      },
      "outputs": [],
      "source": [
        "# %matplotlib inline"
      ]
    },
    {
      "cell_type": "code",
      "source": [
        "from google.colab import drive\n",
        "drive.mount('/content/drive')"
      ],
      "metadata": {
        "id": "05Yt-1OOnQQ6"
      },
      "id": "05Yt-1OOnQQ6",
      "execution_count": null,
      "outputs": []
    },
    {
      "cell_type": "code",
      "execution_count": null,
      "id": "d58c765e",
      "metadata": {
        "id": "d58c765e"
      },
      "outputs": [],
      "source": [
        "data = pd.read_csv('/content/drive/MyDrive/movie_metadata_cleaned.csv')"
      ]
    },
    {
      "cell_type": "code",
      "execution_count": null,
      "id": "91213e94",
      "metadata": {
        "id": "91213e94"
      },
      "outputs": [],
      "source": [
        "data.head(2)"
      ]
    },
    {
      "cell_type": "code",
      "source": [
        "result = data[data['director_name'] == '0']"
      ],
      "metadata": {
        "id": "7WdZ_az-NQSC"
      },
      "id": "7WdZ_az-NQSC",
      "execution_count": null,
      "outputs": []
    },
    {
      "cell_type": "markdown",
      "id": "bd406b00",
      "metadata": {
        "id": "bd406b00"
      },
      "source": [
        "## Get the top 10 directors with most movies directed and use a boxplot for their gross earnings"
      ]
    },
    {
      "cell_type": "code",
      "execution_count": null,
      "id": "6e7c94e6",
      "metadata": {
        "scrolled": false,
        "id": "6e7c94e6"
      },
      "outputs": [],
      "source": [
        "\n",
        "data['director_name'].replace([0, '0'], pd.NA, inplace=True)\n",
        "data['gross'] = pd.to_numeric(data['gross'], errors='coerce')\n",
        "data['budget'] = pd.to_numeric(data['budget'], errors='coerce')\n",
        "\n",
        "clean_data = data.dropna(subset=['director_name', 'gross', 'budget'])\n",
        "clean_data = clean_data[(clean_data['gross'] > 0) | (clean_data['budget'] > 0)]\n",
        "\n",
        "top_10 = clean_data['director_name'].value_counts()[:10]\n",
        "print(top_10)\n",
        "\n",
        "total_gross_by_director = clean_data.groupby('director_name')['gross'].sum().sort_values(ascending=False)\n",
        "\n",
        "top_10_by_gross = total_gross_by_director[total_gross_by_director.index.isin(top_10.index)]\n",
        "filtered_data = clean_data[clean_data['director_name'].isin(top_10_by_gross.index)]\n",
        "\n",
        "plt.figure(figsize=(12, 8))\n",
        "sns.boxplot(x='director_name', y='gross', data=filtered_data, palette='viridis')\n",
        "print(top_10_by_gross)\n",
        "\n",
        "plt.xticks(rotation=45)\n",
        "plt.title('Gross Earnings of Top 10 Directors with Most Movies Directed')\n",
        "plt.xlabel('Director Name')\n",
        "plt.ylabel('Gross Earnings')\n",
        "\n",
        "plt.show()\n",
        "\n"
      ]
    },
    {
      "cell_type": "markdown",
      "id": "86c30d2b",
      "metadata": {
        "id": "86c30d2b"
      },
      "source": [
        "## Plot the following variables in one graph:\n",
        "\n",
        "- num_critic_for_reviews\n",
        "- IMDB score\n",
        "- gross"
      ]
    },
    {
      "cell_type": "code",
      "source": [
        "print(data.columns)"
      ],
      "metadata": {
        "id": "EH18c8B5691W"
      },
      "id": "EH18c8B5691W",
      "execution_count": null,
      "outputs": []
    },
    {
      "cell_type": "code",
      "execution_count": null,
      "id": "aae94303",
      "metadata": {
        "id": "aae94303"
      },
      "outputs": [],
      "source": [
        "pair_data = clean_data[['gross', 'num_critic_for_reviews', 'imdb_score']]\n",
        "sns.pairplot(pair_data)\n",
        "plt.show()"
      ]
    },
    {
      "cell_type": "markdown",
      "id": "e3ada05b",
      "metadata": {
        "id": "e3ada05b"
      },
      "source": [
        "## Compute Sales (Gross - Budget), add it as another column"
      ]
    },
    {
      "cell_type": "code",
      "execution_count": null,
      "id": "3322759d",
      "metadata": {
        "id": "3322759d"
      },
      "outputs": [],
      "source": [
        "clean_data['sales'] = clean_data['gross'] - data['budget']\n",
        "display = clean_data[['movie_title','director_name','gross','budget','sales']].head(10)\n",
        "print(display)"
      ]
    },
    {
      "cell_type": "markdown",
      "id": "a8e907fa",
      "metadata": {
        "id": "a8e907fa"
      },
      "source": [
        "## Which directors garnered the most total sales?"
      ]
    },
    {
      "cell_type": "code",
      "execution_count": null,
      "id": "b39954b2",
      "metadata": {
        "id": "b39954b2"
      },
      "outputs": [],
      "source": [
        "total_sales_by_director = clean_data.groupby('director_name')['sales'].sum().sort_values(ascending=False)[:10]\n",
        "print(total_sales_by_director)"
      ]
    },
    {
      "cell_type": "markdown",
      "id": "a66cf63d",
      "metadata": {
        "id": "a66cf63d"
      },
      "source": [
        "## Plot sales and average likes as a scatterplot. Fit it with a line."
      ]
    },
    {
      "cell_type": "code",
      "execution_count": null,
      "id": "59dfc109",
      "metadata": {
        "id": "59dfc109"
      },
      "outputs": [],
      "source": [
        "plt.figure(figsize=(10, 6))\n",
        "sns.regplot(x='sales', y='movie_facebook_likes', data=clean_data, ci=None, line_kws={\"color\": \"red\", \"alpha\": 0.7})\n",
        "\n",
        "plt.title('Sales vs Average Likes with Line Fit')\n",
        "plt.xlabel('Sales')\n",
        "plt.ylabel('Average Likes')\n",
        "\n",
        "plt.show()"
      ]
    },
    {
      "cell_type": "markdown",
      "id": "1af9fca0",
      "metadata": {
        "id": "1af9fca0"
      },
      "source": [
        "## Which of these genres are the most profitable? Plot their sales using different histograms, superimposed in the same axis.\n",
        "\n",
        "- Romance\n",
        "- Comedy\n",
        "- Action\n",
        "- Fantasy"
      ]
    },
    {
      "cell_type": "code",
      "execution_count": null,
      "id": "4c7bbf3d",
      "metadata": {
        "id": "4c7bbf3d"
      },
      "outputs": [],
      "source": [
        "romance_sales = clean_data[clean_data['genres'] == 'Romance']['sales']\n",
        "comedy_sales = clean_data[clean_data['genres'] == 'Comedy']['sales']\n",
        "action_sales = clean_data[clean_data['genres'] == 'Action']['sales']\n",
        "fantasy_sales = clean_data[clean_data['genres'] == 'Fantasy']['sales']\n",
        "\n",
        "plt.figure(figsize=(10, 6))\n",
        "\n",
        "plt.hist(romance_sales, bins=10, alpha=0.5, label='Romance', edgecolor='black')\n",
        "plt.hist(comedy_sales, bins=10, alpha=0.5, label='Comedy', edgecolor='black')\n",
        "plt.hist(action_sales, bins=10, alpha=0.5, label='Action', edgecolor='black')\n",
        "plt.hist(fantasy_sales, bins=10, alpha=0.5, label='Fantasy', edgecolor='black')\n",
        "\n",
        "plt.title('Sales Distribution by Genre')\n",
        "plt.xlabel('Sales')\n",
        "plt.ylabel('Frequency')\n",
        "plt.legend(loc='upper right')\n",
        "\n",
        "plt.show()"
      ]
    },
    {
      "cell_type": "markdown",
      "id": "f0a0f7c0",
      "metadata": {
        "id": "f0a0f7c0"
      },
      "source": [
        "## For each of movie, compute average likes of the three actors and store it as a new variable\n",
        "\n",
        "Read up on the mean function.\n",
        "\n",
        "Store it as a new column, average_actor_likes."
      ]
    },
    {
      "cell_type": "markdown",
      "id": "212962f2",
      "metadata": {
        "id": "212962f2"
      },
      "source": []
    },
    {
      "cell_type": "code",
      "source": [
        "print(data.columns)"
      ],
      "metadata": {
        "id": "O2JFv4GY3KcD"
      },
      "id": "O2JFv4GY3KcD",
      "execution_count": null,
      "outputs": []
    },
    {
      "cell_type": "code",
      "source": [
        "\n",
        "clean_data['average_actor_likes'] = data[['actor_1_facebook_likes', 'actor_2_facebook_likes', 'actor_3_facebook_likes']].mean(axis=1).astype(int)\n",
        "display = clean_data[['movie_title','average_actor_likes']].head(10)\n",
        "\n",
        "print(display)\n"
      ],
      "metadata": {
        "id": "qWHeg3rW3D6I"
      },
      "id": "qWHeg3rW3D6I",
      "execution_count": null,
      "outputs": []
    },
    {
      "cell_type": "markdown",
      "id": "48041550",
      "metadata": {
        "id": "48041550"
      },
      "source": [
        "## Copying the whole dataframe"
      ]
    },
    {
      "cell_type": "code",
      "execution_count": null,
      "id": "9a58dd9c",
      "metadata": {
        "id": "9a58dd9c"
      },
      "outputs": [],
      "source": [
        "df = data.copy()\n",
        "df.head()"
      ]
    },
    {
      "cell_type": "markdown",
      "id": "4f39d48a",
      "metadata": {
        "id": "4f39d48a"
      },
      "source": [
        "## Min-Max Normalization\n",
        "\n",
        "Normalization is a technique often applied as part of data preparation for machine learning. The goal of normalization is to change the values of numeric columns in the dataset to a common scale, without distorting differences in the ranges of values. For machine learning, every dataset does not require normalization. It is required only when features have different ranges.\n",
        "\n",
        "The min-max approach (often called normalization) rescales the feature to a hard and fast range of [0,1] by subtracting the minimum value of the feature then dividing by the range. We can apply the min-max scaling in Pandas using the .min() and .max() methods.\n",
        "\n",
        "$$\n",
        "x_{scaled} = \\frac{x-x_{min}}{x_{max}-x_{min}}\n",
        "$$"
      ]
    },
    {
      "cell_type": "markdown",
      "id": "6ca33c6e",
      "metadata": {
        "id": "6ca33c6e"
      },
      "source": [
        "### Normalize each numeric column (those that have types integer or float) of the copied dataframe (df)"
      ]
    },
    {
      "cell_type": "code",
      "execution_count": null,
      "id": "136b4a3d",
      "metadata": {
        "id": "136b4a3d"
      },
      "outputs": [],
      "source": [
        "numeric_columns = df.select_dtypes(include=['int', 'float']).columns\n",
        "\n",
        "print(\"Numeric columns:\", numeric_columns)\n",
        "\n",
        "for column in numeric_columns:\n",
        "    min_val = df[column].min()\n",
        "    max_val = df[column].max()\n",
        "    df[column] = (df[column] - min_val) / (max_val - min_val)\n",
        "\n",
        "print(\"Normalized Data:\")\n",
        "print(df)"
      ]
    },
    {
      "cell_type": "code",
      "execution_count": null,
      "id": "81239114",
      "metadata": {
        "id": "81239114"
      },
      "outputs": [],
      "source": []
    }
  ],
  "metadata": {
    "kernelspec": {
      "display_name": "Python 3 (ipykernel)",
      "language": "python",
      "name": "python3"
    },
    "language_info": {
      "codemirror_mode": {
        "name": "ipython",
        "version": 3
      },
      "file_extension": ".py",
      "mimetype": "text/x-python",
      "name": "python",
      "nbconvert_exporter": "python",
      "pygments_lexer": "ipython3",
      "version": "3.9.12"
    },
    "colab": {
      "provenance": [],
      "include_colab_link": true
    }
  },
  "nbformat": 4,
  "nbformat_minor": 5
}